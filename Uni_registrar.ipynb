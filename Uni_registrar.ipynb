{
  "nbformat": 4,
  "nbformat_minor": 0,
  "metadata": {
    "colab": {
      "provenance": [],
      "authorship_tag": "ABX9TyOyp+kVZPF75bdgAuOkAfXZ"
    },
    "kernelspec": {
      "name": "python3",
      "display_name": "Python 3"
    },
    "language_info": {
      "name": "python"
    }
  },
  "cells": [
    {
      "cell_type": "code",
      "execution_count": null,
      "metadata": {
        "id": "Iqy1jWDIRVZy",
        "colab": {
          "base_uri": "https://localhost:8080/"
        },
        "outputId": "aacef770-5b56-43ec-f375-86f54c45cc3d"
      },
      "outputs": [
        {
          "output_type": "stream",
          "name": "stdout",
          "text": [
            "name: Alice\n",
            "major: IS\n",
            "courses: 12\n",
            "Enter the new number of completed courses: 10\n",
            "Alice has completed 25.0% of the required coursework of 40 courses\n",
            "\n",
            "name: Robert\n",
            "major: ACCT\n",
            "courses: 7\n",
            "Enter the new number of completed courses: 20\n",
            "Robert has completed 44.44444444444444% of the required coursework of 45 courses\n",
            "\n",
            "name: Charles\n",
            "courses: 5\n",
            "Enter the new number of completed courses: 30\n",
            "WARNING: No 'major' found in the record\n",
            "\n",
            "name: Diana\n",
            "major: CHEM\n",
            "courses: 9\n",
            "Enter the new number of completed courses: 40\n",
            "WARNING: student Diana has an unknown major CHEM\n",
            "\n",
            "name: Enrique\n",
            "major: MKT\n",
            "courses: 10\n",
            "Enter the new number of completed courses: 50\n",
            "Enrique has completed 200.0% of the required coursework of 25 courses\n",
            "WARNING: student has completed more courses than required!\n",
            "\n"
          ]
        }
      ],
      "source": [
        "#this code is designed to act as a Univeristy's registar's office\n",
        "#I am tasked with updating the university's applications for degree progress and degree audit\n",
        "\n",
        "#creating a dictionary of majors and required number of courses\n",
        "major_required = {'IS': 40, 'ACCT': 45, 'MKT': 25}\n",
        "\n",
        "#create a different dictionary for every student with their name, major, and courses taken\n",
        "alice = {'name': 'Alice', 'major': 'IS', 'courses': 12}\n",
        "bob = {'name': 'Robert', 'major': 'ACCT', 'courses': 7}\n",
        "charlie = {'name': 'Charles', 'courses': 5}\n",
        "di = {'name': 'Diana', 'major': 'CHEM', 'courses': 9}\n",
        "rico = {'name': 'Enrique', 'major': 'MKT', 'courses': 10}\n",
        "\n",
        "#add the different dictionaries of students into a single list of students\n",
        "students = [alice, bob, charlie, di, rico]\n",
        "\n",
        "#create a loop that iterates through each students\n",
        "#inside that loop, create a loop that iterates through the keys of the student dictionary\n",
        "#print the keys and values\n",
        "for student in students:\n",
        "  for key in student:\n",
        "    value = student[key]\n",
        "    print(f\"{key}: {value}\")\n",
        "  #ask the user to enter the new number of courses completed in a variable\n",
        "  new_courses = int(input(\"Enter the new number of completed courses: \"))\n",
        "  #in case student has no major\n",
        "  if 'major' not in student:\n",
        "    print('WARNING: No \\'major\\' found in the record')\n",
        "    print()\n",
        "    continue\n",
        "  #creating a variable for the major of the students\n",
        "  major = student['major']\n",
        "  #in case student has an unknown major\n",
        "  if major not in major_required:\n",
        "    print(f\"WARNING: student {student['name']} has an unknown major {major}\")\n",
        "    print()\n",
        "    continue\n",
        "  #creating a varibale for the required courses needed of students\n",
        "  required = major_required.get(major)\n",
        "  #creating a variable to calculate the percentage of completed courses\n",
        "  percent = (new_courses/required) * 100\n",
        "  #variables help avoid redundancy and increase readability\n",
        "  print(f\"{student['name']} has completed {percent}% of the required coursework of {required} courses\")\n",
        "  #in case student has taken too many credits for their major\n",
        "  if new_courses > required:\n",
        "    print('WARNING: student has completed more courses than required!')\n",
        "  print()\n"
      ]
    },
    {
      "cell_type": "code",
      "source": [],
      "metadata": {
        "id": "szsvaxIeIYpj"
      },
      "execution_count": null,
      "outputs": []
    }
  ]
}